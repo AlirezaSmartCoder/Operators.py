{
 "cells": [
  {
   "cell_type": "code",
   "execution_count": 3,
   "id": "d1624669",
   "metadata": {},
   "outputs": [
    {
     "name": "stdout",
     "output_type": "stream",
     "text": [
      "25.0\n"
     ]
    }
   ],
   "source": [
    "#!/usr/bin/python3\n",
    "num1 = 5\n",
    "num1 += 5\n",
    "num1 /= 2\n",
    "num1 *= 20\n",
    "num1 //= 4\n",
    "num2 = num1\n",
    "del num1\n",
    "print(num2)"
   ]
  }
 ],
 "metadata": {
  "kernelspec": {
   "display_name": "Python 3 (ipykernel)",
   "language": "python",
   "name": "python3"
  },
  "language_info": {
   "codemirror_mode": {
    "name": "ipython",
    "version": 3
   },
   "file_extension": ".py",
   "mimetype": "text/x-python",
   "name": "python",
   "nbconvert_exporter": "python",
   "pygments_lexer": "ipython3",
   "version": "3.9.13"
  }
 },
 "nbformat": 4,
 "nbformat_minor": 5
}
